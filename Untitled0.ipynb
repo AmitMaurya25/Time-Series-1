{
  "nbformat": 4,
  "nbformat_minor": 0,
  "metadata": {
    "colab": {
      "provenance": [],
      "gpuType": "T4"
    },
    "kernelspec": {
      "name": "python3",
      "display_name": "Python 3"
    },
    "language_info": {
      "name": "python"
    },
    "accelerator": "GPU"
  },
  "cells": [
    {
      "cell_type": "markdown",
      "source": [
        "Q1: Install and load the latest versions of TensorFlow and Keras. Print their versions."
      ],
      "metadata": {
        "id": "kJIdMHoSPy4v"
      }
    },
    {
      "cell_type": "code",
      "source": [
        "pip install tensorflow keras\n"
      ],
      "metadata": {
        "colab": {
          "base_uri": "https://localhost:8080/"
        },
        "id": "uyyOjn4oP57R",
        "outputId": "d66c6801-e401-42d0-9507-b07e2206a958"
      },
      "execution_count": null,
      "outputs": [
        {
          "output_type": "stream",
          "name": "stdout",
          "text": [
            "Requirement already satisfied: tensorflow in /usr/local/lib/python3.10/dist-packages (2.15.0)\n",
            "Requirement already satisfied: keras in /usr/local/lib/python3.10/dist-packages (2.15.0)\n",
            "Requirement already satisfied: absl-py>=1.0.0 in /usr/local/lib/python3.10/dist-packages (from tensorflow) (1.4.0)\n",
            "Requirement already satisfied: astunparse>=1.6.0 in /usr/local/lib/python3.10/dist-packages (from tensorflow) (1.6.3)\n",
            "Requirement already satisfied: flatbuffers>=23.5.26 in /usr/local/lib/python3.10/dist-packages (from tensorflow) (23.5.26)\n",
            "Requirement already satisfied: gast!=0.5.0,!=0.5.1,!=0.5.2,>=0.2.1 in /usr/local/lib/python3.10/dist-packages (from tensorflow) (0.5.4)\n",
            "Requirement already satisfied: google-pasta>=0.1.1 in /usr/local/lib/python3.10/dist-packages (from tensorflow) (0.2.0)\n",
            "Requirement already satisfied: h5py>=2.9.0 in /usr/local/lib/python3.10/dist-packages (from tensorflow) (3.9.0)\n",
            "Requirement already satisfied: libclang>=13.0.0 in /usr/local/lib/python3.10/dist-packages (from tensorflow) (16.0.6)\n",
            "Requirement already satisfied: ml-dtypes~=0.2.0 in /usr/local/lib/python3.10/dist-packages (from tensorflow) (0.2.0)\n",
            "Requirement already satisfied: numpy<2.0.0,>=1.23.5 in /usr/local/lib/python3.10/dist-packages (from tensorflow) (1.23.5)\n",
            "Requirement already satisfied: opt-einsum>=2.3.2 in /usr/local/lib/python3.10/dist-packages (from tensorflow) (3.3.0)\n",
            "Requirement already satisfied: packaging in /usr/local/lib/python3.10/dist-packages (from tensorflow) (23.2)\n",
            "Requirement already satisfied: protobuf!=4.21.0,!=4.21.1,!=4.21.2,!=4.21.3,!=4.21.4,!=4.21.5,<5.0.0dev,>=3.20.3 in /usr/local/lib/python3.10/dist-packages (from tensorflow) (3.20.3)\n",
            "Requirement already satisfied: setuptools in /usr/local/lib/python3.10/dist-packages (from tensorflow) (67.7.2)\n",
            "Requirement already satisfied: six>=1.12.0 in /usr/local/lib/python3.10/dist-packages (from tensorflow) (1.16.0)\n",
            "Requirement already satisfied: termcolor>=1.1.0 in /usr/local/lib/python3.10/dist-packages (from tensorflow) (2.4.0)\n",
            "Requirement already satisfied: typing-extensions>=3.6.6 in /usr/local/lib/python3.10/dist-packages (from tensorflow) (4.5.0)\n",
            "Requirement already satisfied: wrapt<1.15,>=1.11.0 in /usr/local/lib/python3.10/dist-packages (from tensorflow) (1.14.1)\n",
            "Requirement already satisfied: tensorflow-io-gcs-filesystem>=0.23.1 in /usr/local/lib/python3.10/dist-packages (from tensorflow) (0.35.0)\n",
            "Requirement already satisfied: grpcio<2.0,>=1.24.3 in /usr/local/lib/python3.10/dist-packages (from tensorflow) (1.60.0)\n",
            "Requirement already satisfied: tensorboard<2.16,>=2.15 in /usr/local/lib/python3.10/dist-packages (from tensorflow) (2.15.1)\n",
            "Requirement already satisfied: tensorflow-estimator<2.16,>=2.15.0 in /usr/local/lib/python3.10/dist-packages (from tensorflow) (2.15.0)\n",
            "Requirement already satisfied: wheel<1.0,>=0.23.0 in /usr/local/lib/python3.10/dist-packages (from astunparse>=1.6.0->tensorflow) (0.42.0)\n",
            "Requirement already satisfied: google-auth<3,>=1.6.3 in /usr/local/lib/python3.10/dist-packages (from tensorboard<2.16,>=2.15->tensorflow) (2.17.3)\n",
            "Requirement already satisfied: google-auth-oauthlib<2,>=0.5 in /usr/local/lib/python3.10/dist-packages (from tensorboard<2.16,>=2.15->tensorflow) (1.2.0)\n",
            "Requirement already satisfied: markdown>=2.6.8 in /usr/local/lib/python3.10/dist-packages (from tensorboard<2.16,>=2.15->tensorflow) (3.5.2)\n",
            "Requirement already satisfied: requests<3,>=2.21.0 in /usr/local/lib/python3.10/dist-packages (from tensorboard<2.16,>=2.15->tensorflow) (2.31.0)\n",
            "Requirement already satisfied: tensorboard-data-server<0.8.0,>=0.7.0 in /usr/local/lib/python3.10/dist-packages (from tensorboard<2.16,>=2.15->tensorflow) (0.7.2)\n",
            "Requirement already satisfied: werkzeug>=1.0.1 in /usr/local/lib/python3.10/dist-packages (from tensorboard<2.16,>=2.15->tensorflow) (3.0.1)\n",
            "Requirement already satisfied: cachetools<6.0,>=2.0.0 in /usr/local/lib/python3.10/dist-packages (from google-auth<3,>=1.6.3->tensorboard<2.16,>=2.15->tensorflow) (5.3.2)\n",
            "Requirement already satisfied: pyasn1-modules>=0.2.1 in /usr/local/lib/python3.10/dist-packages (from google-auth<3,>=1.6.3->tensorboard<2.16,>=2.15->tensorflow) (0.3.0)\n",
            "Requirement already satisfied: rsa<5,>=3.1.4 in /usr/local/lib/python3.10/dist-packages (from google-auth<3,>=1.6.3->tensorboard<2.16,>=2.15->tensorflow) (4.9)\n",
            "Requirement already satisfied: requests-oauthlib>=0.7.0 in /usr/local/lib/python3.10/dist-packages (from google-auth-oauthlib<2,>=0.5->tensorboard<2.16,>=2.15->tensorflow) (1.3.1)\n",
            "Requirement already satisfied: charset-normalizer<4,>=2 in /usr/local/lib/python3.10/dist-packages (from requests<3,>=2.21.0->tensorboard<2.16,>=2.15->tensorflow) (3.3.2)\n",
            "Requirement already satisfied: idna<4,>=2.5 in /usr/local/lib/python3.10/dist-packages (from requests<3,>=2.21.0->tensorboard<2.16,>=2.15->tensorflow) (3.6)\n",
            "Requirement already satisfied: urllib3<3,>=1.21.1 in /usr/local/lib/python3.10/dist-packages (from requests<3,>=2.21.0->tensorboard<2.16,>=2.15->tensorflow) (2.0.7)\n",
            "Requirement already satisfied: certifi>=2017.4.17 in /usr/local/lib/python3.10/dist-packages (from requests<3,>=2.21.0->tensorboard<2.16,>=2.15->tensorflow) (2023.11.17)\n",
            "Requirement already satisfied: MarkupSafe>=2.1.1 in /usr/local/lib/python3.10/dist-packages (from werkzeug>=1.0.1->tensorboard<2.16,>=2.15->tensorflow) (2.1.4)\n",
            "Requirement already satisfied: pyasn1<0.6.0,>=0.4.6 in /usr/local/lib/python3.10/dist-packages (from pyasn1-modules>=0.2.1->google-auth<3,>=1.6.3->tensorboard<2.16,>=2.15->tensorflow) (0.5.1)\n",
            "Requirement already satisfied: oauthlib>=3.0.0 in /usr/local/lib/python3.10/dist-packages (from requests-oauthlib>=0.7.0->google-auth-oauthlib<2,>=0.5->tensorboard<2.16,>=2.15->tensorflow) (3.2.2)\n"
          ]
        }
      ]
    },
    {
      "cell_type": "code",
      "source": [
        "\n",
        "import tensorflow as tf\n",
        "from tensorflow import keras\n",
        "\n",
        "print(f\"TensorFlow version: {tf.__version__}\")\n"
      ],
      "metadata": {
        "colab": {
          "base_uri": "https://localhost:8080/"
        },
        "id": "JQfklBLHP7pR",
        "outputId": "7e5fa525-ea2e-49ea-8621-914fdc6a7b7f"
      },
      "execution_count": null,
      "outputs": [
        {
          "output_type": "stream",
          "name": "stdout",
          "text": [
            "TensorFlow version: 2.15.0\n"
          ]
        }
      ]
    },
    {
      "cell_type": "code",
      "source": [
        "# Import necessary libraries\n",
        "import pandas as pd\n",
        "from sklearn.model_selection import train_test_split\n",
        "from sklearn.preprocessing import StandardScaler\n",
        "from sklearn.metrics import accuracy_score\n",
        "from tensorflow.keras.models import Sequential\n",
        "from tensorflow.keras.layers import Dense\n",
        "from tensorflow.keras.callbacks import TensorBoard, EarlyStopping, ModelCheckpoint\n",
        "import datetime\n",
        "\n",
        "# Load the Wine Quality dataset\n",
        "wine_data = pd.read_csv('wine.csv')"
      ],
      "metadata": {
        "id": "rMunN-PyWz-r"
      },
      "execution_count": null,
      "outputs": []
    },
    {
      "cell_type": "code",
      "source": [
        "\n",
        "\n",
        "# Q3: Check for null values, identify categorical variables, and encode them.\n",
        "# Assuming there are no null values, let's proceed with encoding binary categorical variables.\n",
        "\n",
        "# Assuming 'quality' is the binary target variable\n",
        "wine_data['quality'] = wine_data['quality'].map({'bad': 0, 'good': 1})"
      ],
      "metadata": {
        "id": "UdOPvaOyW0Md"
      },
      "execution_count": null,
      "outputs": []
    },
    {
      "cell_type": "code",
      "source": [
        "# Q4: Separate the features and target variables from the dataframe.\n",
        "X = wine_data.drop('quality', axis=1)\n",
        "y = wine_data['quality']"
      ],
      "metadata": {
        "id": "DPCxjv6mW0Pb"
      },
      "execution_count": null,
      "outputs": []
    },
    {
      "cell_type": "code",
      "source": [
        "\n",
        "# Q5: Perform a train-test split and divide the data into training, validation, and test datasets.\n",
        "X_train, X_temp, y_train, y_temp = train_test_split(X, y, test_size=0.4, random_state=42)\n",
        "X_val, X_test, y_val, y_test = train_test_split(X_temp, y_temp, test_size=0.5, random_state=42)"
      ],
      "metadata": {
        "id": "zOc5ttV7W0S-"
      },
      "execution_count": null,
      "outputs": []
    },
    {
      "cell_type": "code",
      "source": [
        "# Q6: Perform scaling on the dataset.\n",
        "scaler = StandardScaler()\n",
        "X_train_scaled = scaler.fit_transform(X_train)\n",
        "X_val_scaled = scaler.transform(X_val)\n",
        "X_test_scaled = scaler.transform(X_test)"
      ],
      "metadata": {
        "id": "HzsjDWGMXHuT"
      },
      "execution_count": null,
      "outputs": []
    },
    {
      "cell_type": "code",
      "source": [
        "# Q7 to Q12: Create and compile the model, implement callbacks\n",
        "model = Sequential()\n",
        "model.add(Dense(64, activation='relu', input_dim=X_train.shape[1]))  # Hidden layer 1\n",
        "model.add(Dense(32, activation='relu'))  # Hidden layer 2\n",
        "model.add(Dense(1, activation='sigmoid'))  # Output layer\n"
      ],
      "metadata": {
        "id": "bt_riBsYXH8y"
      },
      "execution_count": null,
      "outputs": []
    },
    {
      "cell_type": "code",
      "source": [
        "# Q9: Implement a TensorBoard callback\n",
        "log_dir = \"logs/fit/\" + datetime.datetime.now().strftime(\"%Y%m%d-%H%M%S\")\n",
        "tensorboard_callback = TensorBoard(log_dir=log_dir, histogram_freq=1)"
      ],
      "metadata": {
        "id": "uH2CA1rCXL3-"
      },
      "execution_count": null,
      "outputs": []
    },
    {
      "cell_type": "code",
      "source": [
        "\n",
        "# Q10: Use Early Stopping to prevent overfitting\n",
        "early_stopping_callback = EarlyStopping(monitor='val_loss', patience=5, restore_best_weights=True)\n"
      ],
      "metadata": {
        "id": "v2xqiDrtXL7e"
      },
      "execution_count": null,
      "outputs": []
    },
    {
      "cell_type": "code",
      "source": [
        "# Q11: Implement a ModelCheckpoint callback\n",
        "model_checkpoint_callback = ModelCheckpoint(filepath='best_model.h5', monitor='val_accuracy', save_best_only=True)"
      ],
      "metadata": {
        "id": "R9JewdRCXRVl"
      },
      "execution_count": null,
      "outputs": []
    },
    {
      "cell_type": "code",
      "source": [
        "# Q14: Compile the model\n",
        "model.compile(optimizer='adam', loss='binary_crossentropy', metrics=['accuracy'])"
      ],
      "metadata": {
        "id": "zpiN13lpXRY2"
      },
      "execution_count": null,
      "outputs": []
    },
    {
      "cell_type": "code",
      "source": [
        "# Q15: Fit the model to the data, incorporating callbacks\n",
        "history = model.fit(X_train_scaled, y_train, epochs=50, validation_data=(X_val_scaled, y_val),\n",
        "                    callbacks=[tensorboard_callback, early_stopping_callback, model_checkpoint_callback])"
      ],
      "metadata": {
        "colab": {
          "base_uri": "https://localhost:8080/"
        },
        "id": "3btyEoMYXRci",
        "outputId": "a61f84ea-78b6-4f69-c761-d564700fd1b5"
      },
      "execution_count": null,
      "outputs": [
        {
          "output_type": "stream",
          "name": "stdout",
          "text": [
            "Epoch 1/50\n",
            "30/30 [==============================] - 1s 15ms/step - loss: 0.6281 - accuracy: 0.6642 - val_loss: 0.5814 - val_accuracy: 0.7031\n",
            "Epoch 2/50\n",
            " 7/30 [======>.......................] - ETA: 0s - loss: 0.5359 - accuracy: 0.7455"
          ]
        },
        {
          "output_type": "stream",
          "name": "stderr",
          "text": [
            "/usr/local/lib/python3.10/dist-packages/keras/src/engine/training.py:3103: UserWarning: You are saving your model as an HDF5 file via `model.save()`. This file format is considered legacy. We recommend using instead the native Keras format, e.g. `model.save('my_model.keras')`.\n",
            "  saving_api.save_model(\n"
          ]
        },
        {
          "output_type": "stream",
          "name": "stdout",
          "text": [
            "30/30 [==============================] - 0s 10ms/step - loss: 0.5380 - accuracy: 0.7362 - val_loss: 0.5485 - val_accuracy: 0.7188\n",
            "Epoch 3/50\n",
            "30/30 [==============================] - 0s 7ms/step - loss: 0.5063 - accuracy: 0.7581 - val_loss: 0.5381 - val_accuracy: 0.7406\n",
            "Epoch 4/50\n",
            "30/30 [==============================] - 0s 12ms/step - loss: 0.4928 - accuracy: 0.7696 - val_loss: 0.5375 - val_accuracy: 0.7312\n",
            "Epoch 5/50\n",
            "30/30 [==============================] - 0s 8ms/step - loss: 0.4856 - accuracy: 0.7737 - val_loss: 0.5304 - val_accuracy: 0.7531\n",
            "Epoch 6/50\n",
            "30/30 [==============================] - 0s 6ms/step - loss: 0.4760 - accuracy: 0.7800 - val_loss: 0.5245 - val_accuracy: 0.7437\n",
            "Epoch 7/50\n",
            "30/30 [==============================] - 0s 8ms/step - loss: 0.4698 - accuracy: 0.7831 - val_loss: 0.5257 - val_accuracy: 0.7469\n",
            "Epoch 8/50\n",
            "30/30 [==============================] - 0s 6ms/step - loss: 0.4649 - accuracy: 0.7821 - val_loss: 0.5214 - val_accuracy: 0.7406\n",
            "Epoch 9/50\n",
            "30/30 [==============================] - 0s 6ms/step - loss: 0.4623 - accuracy: 0.7821 - val_loss: 0.5160 - val_accuracy: 0.7531\n",
            "Epoch 10/50\n",
            "30/30 [==============================] - 0s 6ms/step - loss: 0.4567 - accuracy: 0.7779 - val_loss: 0.5220 - val_accuracy: 0.7437\n",
            "Epoch 11/50\n",
            "30/30 [==============================] - 0s 7ms/step - loss: 0.4552 - accuracy: 0.7883 - val_loss: 0.5112 - val_accuracy: 0.7500\n",
            "Epoch 12/50\n",
            "30/30 [==============================] - 0s 7ms/step - loss: 0.4494 - accuracy: 0.7925 - val_loss: 0.5146 - val_accuracy: 0.7531\n",
            "Epoch 13/50\n",
            "30/30 [==============================] - 0s 6ms/step - loss: 0.4461 - accuracy: 0.7883 - val_loss: 0.5180 - val_accuracy: 0.7469\n",
            "Epoch 14/50\n",
            "30/30 [==============================] - 0s 13ms/step - loss: 0.4460 - accuracy: 0.7925 - val_loss: 0.5114 - val_accuracy: 0.7563\n",
            "Epoch 15/50\n",
            "30/30 [==============================] - 0s 12ms/step - loss: 0.4410 - accuracy: 0.7862 - val_loss: 0.5077 - val_accuracy: 0.7531\n",
            "Epoch 16/50\n",
            "30/30 [==============================] - 0s 8ms/step - loss: 0.4353 - accuracy: 0.7925 - val_loss: 0.5085 - val_accuracy: 0.7469\n",
            "Epoch 17/50\n",
            "30/30 [==============================] - 0s 6ms/step - loss: 0.4342 - accuracy: 0.7977 - val_loss: 0.5131 - val_accuracy: 0.7500\n",
            "Epoch 18/50\n",
            "30/30 [==============================] - 0s 6ms/step - loss: 0.4314 - accuracy: 0.7883 - val_loss: 0.5090 - val_accuracy: 0.7563\n",
            "Epoch 19/50\n",
            "30/30 [==============================] - 0s 6ms/step - loss: 0.4299 - accuracy: 0.7998 - val_loss: 0.5092 - val_accuracy: 0.7469\n",
            "Epoch 20/50\n",
            "30/30 [==============================] - 0s 6ms/step - loss: 0.4254 - accuracy: 0.8019 - val_loss: 0.5113 - val_accuracy: 0.7500\n"
          ]
        }
      ]
    },
    {
      "cell_type": "code",
      "source": [
        "\n",
        "# Q16: Get the model's parameters\n",
        "model_params = model.get_weights()\n",
        "print(\"Model Parameters:\", model_params)\n"
      ],
      "metadata": {
        "colab": {
          "base_uri": "https://localhost:8080/"
        },
        "id": "xTgLpkk_XRom",
        "outputId": "398002e3-761f-464f-fcf0-0cfe94616f8e"
      },
      "execution_count": null,
      "outputs": [
        {
          "output_type": "stream",
          "name": "stdout",
          "text": [
            "Model Parameters: [array([[ 1.94139332e-01,  3.93873639e-02, -2.76000537e-02,\n",
            "         1.59852862e-01, -9.16916654e-02,  9.45785735e-03,\n",
            "         1.71801940e-01,  1.50236174e-01,  2.23068222e-01,\n",
            "         4.28528711e-03, -1.09155521e-01, -1.36062205e-01,\n",
            "         1.65417090e-01,  2.09302157e-01,  1.38110891e-01,\n",
            "        -1.89997897e-01,  1.94086097e-02,  2.05946207e-01,\n",
            "        -1.25420004e-01,  2.64485717e-01, -1.84171528e-01,\n",
            "        -1.57759160e-01,  1.50905505e-01,  6.98942170e-02,\n",
            "         8.06590542e-02,  3.69495749e-02, -2.38028336e-02,\n",
            "         5.02986833e-02,  1.17110834e-02, -2.86265463e-01,\n",
            "        -1.39545217e-01,  2.61492133e-01, -1.99896649e-01,\n",
            "         2.09994510e-01,  2.28743814e-02,  8.86715017e-03,\n",
            "         2.66193151e-01, -2.19699234e-01,  2.09140722e-02,\n",
            "        -9.75395516e-02, -3.99356708e-02, -3.06475852e-02,\n",
            "        -2.33694911e-01, -3.45636666e-01, -1.36703908e-01,\n",
            "         9.92601067e-02, -1.52346015e-01, -2.60330081e-01,\n",
            "        -2.82740146e-01,  2.09661931e-01, -7.69812018e-02,\n",
            "        -3.05961985e-02,  1.98304400e-01,  2.39900291e-01,\n",
            "        -5.40108047e-03,  5.17251063e-03, -1.27840921e-01,\n",
            "         8.16281736e-02, -4.92158793e-02,  2.17968762e-01,\n",
            "         4.12991159e-02, -1.47703663e-01, -8.21143091e-02,\n",
            "        -1.96151331e-01],\n",
            "       [ 3.49305451e-01,  1.48400173e-01,  7.18169063e-02,\n",
            "        -9.43004861e-02,  9.29745361e-02, -4.71832678e-02,\n",
            "         6.13985471e-02, -2.20504716e-01, -2.92084187e-01,\n",
            "         1.30771175e-01,  2.13717386e-01, -1.30957767e-01,\n",
            "        -1.76738948e-02,  3.90558988e-02, -9.56543982e-02,\n",
            "        -3.19422632e-01, -2.17016444e-01, -1.28025636e-01,\n",
            "        -1.68224454e-01, -6.73553422e-02, -2.84280032e-01,\n",
            "         1.97538510e-01, -2.63574213e-01, -4.21464816e-02,\n",
            "        -2.38016844e-01,  1.00889243e-01, -1.32257417e-01,\n",
            "        -9.15888697e-02, -2.06497326e-01,  1.29276797e-01,\n",
            "         1.76794887e-01,  2.60281473e-01, -7.70831108e-02,\n",
            "         1.54737324e-01, -8.83182809e-02,  9.33086723e-02,\n",
            "        -2.20240086e-01, -2.64569134e-01, -2.56326437e-01,\n",
            "         1.19741835e-01, -1.01020701e-01, -2.73770466e-02,\n",
            "         1.78808272e-01, -2.25804031e-01, -1.66325137e-01,\n",
            "         9.70594585e-02,  3.11412048e-02,  8.39617923e-02,\n",
            "         2.01715276e-01,  3.19640376e-02, -3.86942215e-02,\n",
            "        -6.97495416e-02, -1.87049717e-01, -7.33137503e-02,\n",
            "        -6.37863278e-02, -1.06776066e-01,  2.19928220e-01,\n",
            "        -6.05588146e-02,  3.26045230e-02,  3.44916373e-01,\n",
            "         1.34320259e-01, -8.19095075e-02,  1.49188653e-01,\n",
            "        -1.87597007e-01],\n",
            "       [-1.98780015e-01,  3.07138395e-02,  1.44769147e-01,\n",
            "        -2.90612504e-02,  2.71717340e-01, -1.51622176e-01,\n",
            "         4.10104468e-02,  2.28918955e-01, -2.14686185e-01,\n",
            "         5.30864224e-02,  4.10881750e-02,  8.33453909e-02,\n",
            "         2.78052799e-02, -8.29639286e-02,  6.66298717e-02,\n",
            "         9.81242061e-02,  5.13774678e-02,  9.97483209e-02,\n",
            "        -2.65857726e-01, -1.88750282e-01,  1.12140767e-01,\n",
            "        -1.04721857e-03, -3.39268781e-02, -8.33530501e-02,\n",
            "        -1.84820399e-01,  3.09913233e-02, -2.06466436e-01,\n",
            "        -9.28605441e-03,  2.82603838e-02, -5.84954047e-04,\n",
            "         1.82089701e-01,  8.62529501e-02, -1.62451691e-03,\n",
            "        -1.72512650e-01,  2.25034833e-01,  1.41727418e-01,\n",
            "        -1.45455793e-01,  1.50284275e-01,  9.22238603e-02,\n",
            "        -1.92394421e-01, -2.81459540e-01,  1.65717453e-02,\n",
            "        -2.82114185e-02, -8.51573143e-03,  3.32210809e-01,\n",
            "         7.78611675e-02,  3.10104489e-02,  9.70995426e-02,\n",
            "        -2.00517058e-01,  6.55193627e-02,  2.47834444e-01,\n",
            "         5.66222928e-02, -2.16332361e-01, -4.29930612e-02,\n",
            "        -7.03458562e-02,  1.39299139e-01,  2.01406881e-01,\n",
            "         2.08952904e-01,  3.81001011e-02,  1.59799919e-01,\n",
            "        -1.14245646e-01, -1.83822680e-02, -2.91278541e-01,\n",
            "        -2.01962501e-01],\n",
            "       [-1.96070492e-01,  2.05612779e-01,  1.03733055e-01,\n",
            "        -2.17912700e-02,  4.53312183e-03,  2.13714436e-01,\n",
            "        -3.01095217e-01, -9.86657012e-03, -2.31548294e-01,\n",
            "         7.18644112e-02, -1.68602690e-01,  3.06303173e-01,\n",
            "         2.10500836e-01, -1.79001123e-01,  1.91146716e-01,\n",
            "         4.24014404e-02, -2.84322441e-01,  3.19416896e-02,\n",
            "         1.92354590e-01, -1.26585752e-01,  3.92104983e-02,\n",
            "        -2.96699166e-01, -1.84050307e-01, -1.82952195e-01,\n",
            "        -1.57885894e-01, -2.59783804e-01, -1.88471675e-01,\n",
            "         5.84539436e-02,  3.49038877e-02, -1.07338578e-01,\n",
            "         8.13534185e-02,  1.92193568e-01, -1.77965611e-01,\n",
            "        -5.59372976e-02,  1.85702607e-01, -5.97815588e-02,\n",
            "         3.88057902e-02,  1.65793754e-03, -7.39508048e-02,\n",
            "         8.52248818e-02, -2.53032476e-01,  2.23911032e-01,\n",
            "        -2.08392367e-01, -2.21003413e-01, -2.59747386e-01,\n",
            "        -8.85818973e-02,  1.02859795e-01,  1.73882768e-02,\n",
            "         1.52596846e-01, -2.43209928e-01, -1.74680073e-02,\n",
            "        -2.45820016e-01,  9.37981382e-02, -2.67698795e-01,\n",
            "         5.61304651e-02, -2.72989959e-01,  2.50619110e-02,\n",
            "         1.81681752e-01,  1.33667380e-01, -1.35335714e-01,\n",
            "        -2.01173156e-01,  1.01864278e-01, -2.39581272e-01,\n",
            "         8.35856199e-02],\n",
            "       [ 2.03166585e-02,  2.70649567e-02,  4.84716929e-02,\n",
            "        -8.74040574e-02,  1.33361667e-01, -1.10320605e-01,\n",
            "        -1.72752827e-01,  7.29403421e-02, -2.39765346e-01,\n",
            "        -1.07869200e-01, -2.35867828e-01, -1.73200399e-01,\n",
            "         7.15896487e-02, -5.50173111e-02, -1.46689311e-01,\n",
            "        -4.59045209e-02,  3.10266986e-02, -8.78374875e-02,\n",
            "        -1.11215273e-02, -1.78190507e-02,  2.50084877e-01,\n",
            "        -6.27269670e-02,  1.61979020e-01, -2.38546669e-01,\n",
            "         1.72748581e-01, -3.09480280e-01, -2.58525193e-01,\n",
            "        -7.44042471e-02,  2.85988450e-01, -2.01643720e-01,\n",
            "        -2.83269644e-01,  1.79429427e-01, -2.27864161e-01,\n",
            "         1.72979787e-01,  2.90588498e-01,  1.81901842e-01,\n",
            "         1.01970091e-01,  1.11955680e-01, -2.30083123e-01,\n",
            "        -6.11220375e-02,  1.86651692e-01, -4.50455546e-02,\n",
            "        -1.72399804e-02,  2.17655659e-01,  9.94712412e-02,\n",
            "         2.72189211e-02,  3.26321781e-01,  9.44520682e-02,\n",
            "         6.82519600e-02,  8.79289657e-02, -1.81673810e-01,\n",
            "         2.25383207e-01,  2.92800486e-01,  1.88536212e-01,\n",
            "         2.89918892e-02,  9.30534899e-02,  1.38728432e-02,\n",
            "        -2.24280376e-02,  1.59930483e-01,  1.88178390e-01,\n",
            "         8.09560418e-02, -6.83362335e-02, -7.96559229e-02,\n",
            "         1.17018092e-02],\n",
            "       [-1.72657594e-01, -1.58704296e-02,  1.92339227e-01,\n",
            "        -4.64706197e-02,  1.76019728e-01, -2.24371657e-01,\n",
            "        -1.48343325e-01,  1.73558086e-01,  1.41423289e-02,\n",
            "         3.42342913e-01,  7.04996586e-02, -9.76472721e-02,\n",
            "         1.84770972e-01,  1.78050667e-01, -1.50821537e-01,\n",
            "         1.33993894e-01, -1.95493340e-01, -8.43447149e-02,\n",
            "         2.32205734e-01, -1.71015799e-01, -7.98573792e-02,\n",
            "        -1.75269797e-01, -7.33281299e-02,  5.39768226e-02,\n",
            "        -2.91485846e-01,  2.30512470e-01,  1.83939904e-01,\n",
            "         1.90694854e-01,  3.78255427e-01, -2.94493347e-01,\n",
            "         1.55993536e-01, -7.52614662e-02,  2.11658433e-01,\n",
            "        -2.28704661e-01,  5.32741956e-02,  6.31715953e-02,\n",
            "        -2.43866205e-01, -2.45163396e-01,  1.26275927e-01,\n",
            "        -6.05146885e-02,  1.67700835e-02,  1.09398730e-01,\n",
            "         1.26788720e-01,  1.85800597e-01, -1.12886526e-01,\n",
            "        -3.21812481e-01,  2.41974041e-01, -2.69277275e-01,\n",
            "         8.04300010e-02, -3.95583222e-03, -8.38571414e-02,\n",
            "        -4.78202552e-02,  3.70136872e-02,  2.19324142e-01,\n",
            "         2.67296523e-01,  2.66255111e-01,  2.29163170e-01,\n",
            "        -1.56660110e-01, -6.70552775e-02,  2.67970622e-01,\n",
            "        -2.86708232e-02,  2.48526230e-01,  2.30570361e-01,\n",
            "         6.31699637e-02],\n",
            "       [ 3.11869290e-03,  1.08992673e-01, -2.52895027e-01,\n",
            "        -3.03304166e-01, -1.43838942e-01, -1.66591778e-01,\n",
            "        -3.37825827e-02, -1.72381714e-01,  5.59944175e-02,\n",
            "         1.97164193e-01,  1.70631949e-02, -4.64989059e-02,\n",
            "         2.65914887e-01, -3.74125852e-03,  2.90723801e-01,\n",
            "         1.79910883e-01, -2.83091683e-02, -1.58331394e-02,\n",
            "         1.93143666e-01, -1.39990672e-01,  2.41873171e-02,\n",
            "         2.32962266e-01, -2.98293568e-02,  1.26775861e-01,\n",
            "         2.74700403e-01, -3.06957334e-01, -1.74357265e-01,\n",
            "        -1.23230942e-01,  1.07099218e-02, -1.59641743e-01,\n",
            "        -3.54392856e-01,  2.97804981e-01, -1.92904428e-01,\n",
            "         1.35940462e-01, -2.31816575e-01,  2.71452487e-01,\n",
            "        -1.82832718e-01, -3.00728772e-02, -1.13259241e-01,\n",
            "        -2.44702790e-02, -2.30205595e-01, -7.55901113e-02,\n",
            "        -7.78341666e-02,  2.08080411e-01, -1.82793140e-02,\n",
            "        -1.17337592e-01,  1.34314090e-01, -2.16811404e-01,\n",
            "        -2.66270697e-01,  2.06303135e-01, -2.47863218e-01,\n",
            "         2.38503758e-02, -2.24579975e-01,  8.27040747e-02,\n",
            "         1.35534376e-01, -1.80587664e-01, -3.52415107e-02,\n",
            "         1.88266635e-01, -4.14068960e-02,  4.40405263e-03,\n",
            "         7.30738267e-02, -2.29348525e-01, -8.37691948e-02,\n",
            "        -2.40715072e-01],\n",
            "       [-1.16400503e-01, -1.47855520e-01,  2.23436300e-02,\n",
            "         7.45953768e-02, -2.13164389e-01,  1.30581766e-01,\n",
            "        -5.29348366e-02,  2.00367749e-01, -1.86937809e-01,\n",
            "         4.58995663e-02,  1.60287365e-01, -1.74022213e-01,\n",
            "        -2.61614352e-01,  2.76499428e-02, -1.87014654e-01,\n",
            "        -2.18944430e-01, -1.29659802e-01,  1.91402677e-02,\n",
            "         2.07056046e-01,  1.15113363e-01, -1.09610200e-01,\n",
            "        -2.15893760e-01, -2.28014201e-01,  3.25398296e-01,\n",
            "        -6.29326180e-02,  8.69342089e-02,  1.49709880e-01,\n",
            "        -3.44556540e-01,  8.69236663e-02,  1.80575594e-01,\n",
            "         1.87128305e-01,  2.37545863e-01, -1.13495931e-01,\n",
            "        -1.35055810e-01, -8.84525552e-02,  1.01699173e-01,\n",
            "        -2.61029631e-01,  1.41919442e-02, -1.64515059e-02,\n",
            "        -2.06722438e-01,  2.92494632e-02,  2.24134445e-01,\n",
            "         2.15436026e-01,  2.50639260e-01,  2.96822011e-01,\n",
            "         1.92153558e-01,  1.65134296e-01, -6.83044940e-02,\n",
            "        -1.02390699e-01,  7.00606257e-02,  1.12290367e-01,\n",
            "         2.63297498e-01,  4.95174117e-02, -1.44181084e-02,\n",
            "        -2.07694501e-01,  4.49537672e-02, -2.99568057e-01,\n",
            "         2.82849401e-01, -2.24339217e-01,  4.61019650e-02,\n",
            "        -7.68697122e-04, -2.42053330e-01,  1.98054135e-01,\n",
            "        -2.64403969e-02],\n",
            "       [-6.22121850e-03, -9.01047885e-02,  1.36094093e-01,\n",
            "         2.80896842e-01, -2.73955837e-02, -2.32346699e-01,\n",
            "         2.50328898e-01,  2.80242771e-01, -1.37192249e-01,\n",
            "         1.62988022e-01, -1.71667755e-01,  1.78531900e-01,\n",
            "         4.23146188e-02, -2.02345759e-01, -1.64431304e-01,\n",
            "         1.36031866e-01, -2.66489148e-01,  6.65510967e-02,\n",
            "        -9.95710641e-02,  4.65559252e-02,  8.37815553e-02,\n",
            "        -5.94119802e-02, -1.60641983e-01,  7.30084777e-02,\n",
            "         2.85731256e-01, -2.05707580e-01,  1.39105439e-01,\n",
            "        -5.90552501e-02,  1.98674351e-01, -1.02362834e-01,\n",
            "         3.46201509e-01,  7.36309737e-02, -1.06971547e-01,\n",
            "        -2.55313128e-01,  1.45639092e-01,  3.98170650e-01,\n",
            "        -2.21561566e-01,  2.78613150e-01,  1.46203905e-01,\n",
            "        -6.03360496e-02,  1.00735761e-01,  2.68041134e-01,\n",
            "        -4.20707017e-02,  2.86385347e-03, -8.84858444e-02,\n",
            "        -2.33705208e-01, -1.93500007e-03, -5.62023558e-02,\n",
            "        -9.49152783e-02,  2.71601468e-01, -1.49930909e-01,\n",
            "         7.94052556e-02,  5.17892689e-02, -2.29011193e-01,\n",
            "        -2.26931810e-01, -4.97551970e-02, -2.79224992e-01,\n",
            "        -4.86747362e-02, -1.69785395e-01, -1.64970338e-01,\n",
            "         8.42291266e-02, -2.07164079e-01, -7.53662083e-04,\n",
            "        -5.19698672e-02],\n",
            "       [-1.62563231e-02, -3.58762704e-02,  2.44611762e-02,\n",
            "        -4.64598835e-01, -2.75841147e-01, -2.44593948e-01,\n",
            "         6.88227639e-02,  4.63151447e-02, -5.36546893e-02,\n",
            "        -4.23532836e-02, -3.72855783e-01, -1.86415166e-01,\n",
            "         1.07077256e-01,  3.11632699e-04,  2.68696964e-01,\n",
            "         1.52426064e-01,  1.90957010e-01,  2.66346812e-01,\n",
            "        -1.82901770e-01,  1.69519395e-01,  2.26368412e-01,\n",
            "         1.73580542e-01,  2.51707166e-01,  7.84282386e-02,\n",
            "         1.00147478e-01,  2.60742307e-01,  4.68531623e-02,\n",
            "         1.65943354e-01,  1.72697857e-01, -3.38638544e-01,\n",
            "        -1.20445780e-01, -2.42734343e-01,  1.96486488e-01,\n",
            "        -5.69129549e-02,  1.95697341e-02, -1.51015922e-01,\n",
            "         1.57493085e-01, -3.22870821e-01,  2.04950303e-01,\n",
            "         1.05951853e-01,  3.09174955e-01,  1.32826865e-01,\n",
            "        -1.53064847e-01,  1.65779978e-01,  3.80934067e-02,\n",
            "         2.40926236e-01, -1.47900715e-01,  1.67846203e-01,\n",
            "        -3.00177693e-01, -7.55700842e-02,  1.22885443e-01,\n",
            "         6.74840584e-02, -2.36195013e-01,  3.19196999e-01,\n",
            "         3.00640672e-01, -2.64908373e-01,  1.05048418e-01,\n",
            "        -1.32235453e-01,  2.15746209e-01, -2.90650010e-01,\n",
            "         4.20788722e-03, -2.20274124e-02, -6.71212524e-02,\n",
            "         9.92867351e-02],\n",
            "       [ 1.62713870e-01, -1.06271923e-01,  1.22989096e-01,\n",
            "        -9.82351899e-02, -2.66879886e-01,  1.32779494e-01,\n",
            "         2.21039176e-01, -2.78604180e-01, -9.04907212e-02,\n",
            "        -2.91336596e-01,  1.05189532e-01,  2.17108186e-02,\n",
            "         7.44335502e-02,  1.83601707e-01, -1.40473455e-01,\n",
            "         5.57258055e-02,  9.39433128e-02,  2.08505675e-01,\n",
            "         3.18512321e-01,  1.63256362e-01,  1.17149584e-01,\n",
            "        -2.56797105e-01,  2.51601905e-01,  2.99304929e-02,\n",
            "         1.78269714e-01,  2.47225732e-01,  1.68670744e-01,\n",
            "         3.36987019e-01, -2.55616575e-01,  5.15597053e-02,\n",
            "         2.53170490e-01, -9.24420878e-02,  1.53377607e-01,\n",
            "         5.56168705e-02,  1.82874545e-01,  4.69307974e-02,\n",
            "         7.03803524e-02, -1.53041497e-01,  2.32890785e-01,\n",
            "         1.52372956e-01, -3.71384770e-02, -1.07285015e-01,\n",
            "        -1.65941730e-01, -3.29354942e-01,  4.59662303e-02,\n",
            "        -2.74735577e-02,  1.95736978e-02, -2.87979692e-01,\n",
            "        -1.93193540e-01,  1.05427183e-01,  2.48468760e-02,\n",
            "        -2.96270192e-01,  1.35938287e-01, -2.39909347e-02,\n",
            "        -2.32475191e-01, -1.08763471e-01, -1.61449537e-01,\n",
            "        -6.08742656e-03,  8.94228294e-02, -1.53923914e-01,\n",
            "        -1.96581274e-01,  2.24175215e-01,  4.29291055e-02,\n",
            "         1.77451983e-01]], dtype=float32), array([ 0.0050288 ,  0.00528589,  0.05826448, -0.00921267, -0.03211028,\n",
            "       -0.05148538,  0.03480691,  0.03394482,  0.06247261, -0.02838063,\n",
            "       -0.02276842, -0.06310658,  0.04305611,  0.07740376,  0.01306888,\n",
            "        0.00140471,  0.06251586, -0.01030838, -0.03514287,  0.12945266,\n",
            "        0.03157442, -0.01026857,  0.00402537,  0.05902185, -0.01274321,\n",
            "        0.08844222,  0.03996051,  0.07552844, -0.03370729, -0.01651648,\n",
            "        0.08371249,  0.04295044,  0.07976674, -0.10216657, -0.01104969,\n",
            "       -0.00321585,  0.05894374,  0.06342447, -0.00096802, -0.03646475,\n",
            "        0.0636153 , -0.0323913 , -0.06965692,  0.01783083, -0.03286484,\n",
            "        0.03458714, -0.00152749, -0.01078564, -0.03175389, -0.00813152,\n",
            "       -0.03661424,  0.0362459 , -0.02844069,  0.00049482, -0.00407037,\n",
            "        0.00918635,  0.02721059,  0.00640896,  0.07559123,  0.0130452 ,\n",
            "       -0.05123594,  0.08677103,  0.04587097,  0.07153242], dtype=float32), array([[-0.31154913,  0.166757  ,  0.16835828, ...,  0.07277008,\n",
            "         0.03235974, -0.22459897],\n",
            "       [ 0.01427571, -0.16264978,  0.23663011, ..., -0.21339597,\n",
            "         0.03859785,  0.2643761 ],\n",
            "       [ 0.11251761, -0.1391867 , -0.16659966, ...,  0.03067954,\n",
            "        -0.16223416,  0.24590135],\n",
            "       ...,\n",
            "       [ 0.15284137,  0.20690076,  0.02942118, ..., -0.05335724,\n",
            "         0.16230355, -0.23222293],\n",
            "       [-0.10177984, -0.00736756, -0.3286205 , ..., -0.08627047,\n",
            "        -0.15774289,  0.21870874],\n",
            "       [-0.0328696 , -0.1484286 ,  0.18851447, ..., -0.03083946,\n",
            "        -0.3133565 ,  0.087194  ]], dtype=float32), array([ 0.03406476,  0.01705175, -0.03329557, -0.01492245,  0.04040908,\n",
            "        0.07394581,  0.00916767, -0.03012375,  0.05318445,  0.06249018,\n",
            "        0.01358011, -0.05070326, -0.0253421 , -0.00128531,  0.0821375 ,\n",
            "        0.00287898, -0.02678797,  0.06787583,  0.00723717, -0.00694732,\n",
            "        0.01852411, -0.01846476, -0.02801785,  0.0756823 ,  0.08223326,\n",
            "       -0.04762644,  0.0622808 , -0.00275347,  0.02597989, -0.03514533,\n",
            "       -0.0316614 ,  0.0054722 ], dtype=float32), array([[ 0.42782855],\n",
            "       [-0.29830444],\n",
            "       [-0.09537951],\n",
            "       [-0.25280392],\n",
            "       [ 0.4446648 ],\n",
            "       [ 0.24395071],\n",
            "       [-0.201998  ],\n",
            "       [-0.14426862],\n",
            "       [ 0.37720272],\n",
            "       [ 0.45499346],\n",
            "       [ 0.17584632],\n",
            "       [-0.14321585],\n",
            "       [-0.28620064],\n",
            "       [-0.44905597],\n",
            "       [ 0.30658802],\n",
            "       [ 0.34155616],\n",
            "       [-0.13017279],\n",
            "       [ 0.33766294],\n",
            "       [-0.06309482],\n",
            "       [-0.39089945],\n",
            "       [ 0.03378581],\n",
            "       [-0.35245413],\n",
            "       [-0.01238423],\n",
            "       [ 0.21289012],\n",
            "       [ 0.13965112],\n",
            "       [-0.15926746],\n",
            "       [ 0.239848  ],\n",
            "       [-0.5497372 ],\n",
            "       [ 0.35944536],\n",
            "       [-0.13470949],\n",
            "       [-0.14721446],\n",
            "       [-0.21352503]], dtype=float32), array([0.03532241], dtype=float32)]\n"
          ]
        }
      ]
    },
    {
      "cell_type": "code",
      "source": [
        "# Q17: Store the model's training history as a Pandas DataFrame\n",
        "history_df = pd.DataFrame(history.history)"
      ],
      "metadata": {
        "id": "W6dQNCoVXcAn"
      },
      "execution_count": null,
      "outputs": []
    },
    {
      "cell_type": "code",
      "source": [
        "# Q18: Plot the model's training history\n",
        "import matplotlib.pyplot as plt\n",
        "\n",
        "plt.plot(history_df['accuracy'], label='Training Accuracy')\n",
        "plt.plot(history_df['val_accuracy'], label='Validation Accuracy')\n",
        "plt.xlabel('Epochs')\n",
        "plt.ylabel('Accuracy')\n",
        "plt.legend()\n",
        "plt.show()\n"
      ],
      "metadata": {
        "colab": {
          "base_uri": "https://localhost:8080/",
          "height": 449
        },
        "id": "iLjWTYSBQYrt",
        "outputId": "efd0403a-d456-46c0-e13e-b58d09ae5c73"
      },
      "execution_count": null,
      "outputs": [
        {
          "output_type": "display_data",
          "data": {
            "text/plain": [
              "<Figure size 640x480 with 1 Axes>"
            ],
            "image/png": "[encoded data removed]"
          },
          "metadata": {}
        }
      ]
    },
    {
      "cell_type": "code",
      "source": [
        "y_pred = (model.predict(X_test_scaled) > 0.5).astype(int).flatten()\n"
      ],
      "metadata": {
        "colab": {
          "base_uri": "https://localhost:8080/"
        },
        "id": "2iTZ3onVQrci",
        "outputId": "2079d735-c4a0-4c7e-c823-e9cff18604aa"
      },
      "execution_count": null,
      "outputs": [
        {
          "output_type": "stream",
          "name": "stdout",
          "text": [
            "10/10 [==============================] - 0s 2ms/step\n"
          ]
        }
      ]
    },
    {
      "cell_type": "code",
      "source": [
        "# Q19: Evaluate the model's performance using the test data\n",
        "test_accuracy = accuracy_score(y_test, y_pred)\n",
        "print(\"Test Accuracy:\", test_accuracy)\n"
      ],
      "metadata": {
        "colab": {
          "base_uri": "https://localhost:8080/"
        },
        "id": "tInKYZmbVyOD",
        "outputId": "691cd879-d4c1-4f60-ab90-8d374c062c0a"
      },
      "execution_count": null,
      "outputs": [
        {
          "output_type": "stream",
          "name": "stdout",
          "text": [
            "Test Accuracy: 0.74375\n"
          ]
        }
      ]
    },
    {
      "cell_type": "code",
      "source": [],
      "metadata": {
        "id": "CNyEfq4HV1v3"
      },
      "execution_count": null,
      "outputs": []
    }
  ]
}